{
  "nbformat": 4,
  "nbformat_minor": 0,
  "metadata": {
    "colab": {
      "name": "LSTM-NSE Model.ipynb",
      "provenance": [],
      "collapsed_sections": [],
      "authorship_tag": "ABX9TyMgWTr6rnSoyfl6x2PwwwK2",
      "include_colab_link": true
    },
    "kernelspec": {
      "name": "python3",
      "display_name": "Python 3"
    },
    "accelerator": "GPU"
  },
  "cells": [
    {
      "cell_type": "markdown",
      "metadata": {
        "id": "view-in-github",
        "colab_type": "text"
      },
      "source": [
        "<a href=\"https://colab.research.google.com/github/souhityac/LSTM-based-NSE-Stock-Predictions/blob/main/LSTM_NSE_Model.ipynb\" target=\"_parent\"><img src=\"https://colab.research.google.com/assets/colab-badge.svg\" alt=\"Open In Colab\"/></a>"
      ]
    },
    {
      "cell_type": "code",
      "metadata": {
        "id": "3wi_jwOGUVLv"
      },
      "source": [
        "# Installing investpy\n",
        "\n",
        "!pip install investpy"
      ],
      "execution_count": null,
      "outputs": []
    },
    {
      "cell_type": "code",
      "metadata": {
        "id": "oRGSY_vXm64h"
      },
      "source": [
        "# Data Collection \n",
        "# HDFC Bank data - January,2016 to Oct,2020\n",
        "# Timeframe - Daily\n",
        "\n",
        "import investpy\n",
        "\n",
        "df = investpy.get_stock_historical_data(stock='HDBK',\n",
        "                                        country='India',\n",
        "                                        from_date='01/01/2016',\n",
        "                                        to_date='08/10/2020')\n"
      ],
      "execution_count": 2,
      "outputs": []
    },
    {
      "cell_type": "code",
      "metadata": {
        "id": "hwza2nn7lw8i",
        "outputId": "4c1fea33-33ba-4410-8df2-fa2713ea334f",
        "colab": {
          "base_uri": "https://localhost:8080/",
          "height": 34
        }
      },
      "source": [
        "# Size of dataset \n",
        "\n",
        "df.shape"
      ],
      "execution_count": 3,
      "outputs": [
        {
          "output_type": "execute_result",
          "data": {
            "text/plain": [
              "(1180, 6)"
            ]
          },
          "metadata": {
            "tags": []
          },
          "execution_count": 3
        }
      ]
    },
    {
      "cell_type": "code",
      "metadata": {
        "id": "wazilplRoEoQ"
      },
      "source": [
        "# Creating a dataframe of the downloaded data\n",
        "\n",
        "import pandas as pd\n",
        "\n",
        "df = pd.DataFrame(df)"
      ],
      "execution_count": 4,
      "outputs": []
    },
    {
      "cell_type": "code",
      "metadata": {
        "id": "mEstD5MFYed_",
        "outputId": "6a19e4eb-257e-4d54-fd9a-f3b4b70e1c1c",
        "colab": {
          "base_uri": "https://localhost:8080/",
          "height": 450
        }
      },
      "source": [
        "df"
      ],
      "execution_count": 30,
      "outputs": [
        {
          "output_type": "execute_result",
          "data": {
            "text/html": [
              "<div>\n",
              "<style scoped>\n",
              "    .dataframe tbody tr th:only-of-type {\n",
              "        vertical-align: middle;\n",
              "    }\n",
              "\n",
              "    .dataframe tbody tr th {\n",
              "        vertical-align: top;\n",
              "    }\n",
              "\n",
              "    .dataframe thead th {\n",
              "        text-align: right;\n",
              "    }\n",
              "</style>\n",
              "<table border=\"1\" class=\"dataframe\">\n",
              "  <thead>\n",
              "    <tr style=\"text-align: right;\">\n",
              "      <th></th>\n",
              "      <th>Open</th>\n",
              "      <th>High</th>\n",
              "      <th>Low</th>\n",
              "      <th>Close</th>\n",
              "      <th>Volume</th>\n",
              "    </tr>\n",
              "    <tr>\n",
              "      <th>Date</th>\n",
              "      <th></th>\n",
              "      <th></th>\n",
              "      <th></th>\n",
              "      <th></th>\n",
              "      <th></th>\n",
              "    </tr>\n",
              "  </thead>\n",
              "  <tbody>\n",
              "    <tr>\n",
              "      <th>2016-01-01</th>\n",
              "      <td>540.00</td>\n",
              "      <td>543.91</td>\n",
              "      <td>536.88</td>\n",
              "      <td>543.17</td>\n",
              "      <td>1597538</td>\n",
              "    </tr>\n",
              "    <tr>\n",
              "      <th>2016-01-04</th>\n",
              "      <td>540.80</td>\n",
              "      <td>540.80</td>\n",
              "      <td>532.86</td>\n",
              "      <td>534.06</td>\n",
              "      <td>2593768</td>\n",
              "    </tr>\n",
              "    <tr>\n",
              "      <th>2016-01-05</th>\n",
              "      <td>533.91</td>\n",
              "      <td>536.21</td>\n",
              "      <td>529.50</td>\n",
              "      <td>530.02</td>\n",
              "      <td>1580436</td>\n",
              "    </tr>\n",
              "    <tr>\n",
              "      <th>2016-01-06</th>\n",
              "      <td>527.15</td>\n",
              "      <td>537.18</td>\n",
              "      <td>527.15</td>\n",
              "      <td>532.36</td>\n",
              "      <td>2082768</td>\n",
              "    </tr>\n",
              "    <tr>\n",
              "      <th>2016-01-07</th>\n",
              "      <td>528.87</td>\n",
              "      <td>531.27</td>\n",
              "      <td>523.68</td>\n",
              "      <td>526.93</td>\n",
              "      <td>3027714</td>\n",
              "    </tr>\n",
              "    <tr>\n",
              "      <th>...</th>\n",
              "      <td>...</td>\n",
              "      <td>...</td>\n",
              "      <td>...</td>\n",
              "      <td>...</td>\n",
              "      <td>...</td>\n",
              "    </tr>\n",
              "    <tr>\n",
              "      <th>2020-10-01</th>\n",
              "      <td>1090.10</td>\n",
              "      <td>1110.00</td>\n",
              "      <td>1090.10</td>\n",
              "      <td>1106.95</td>\n",
              "      <td>10601566</td>\n",
              "    </tr>\n",
              "    <tr>\n",
              "      <th>2020-10-05</th>\n",
              "      <td>1112.00</td>\n",
              "      <td>1132.00</td>\n",
              "      <td>1111.00</td>\n",
              "      <td>1114.35</td>\n",
              "      <td>8470109</td>\n",
              "    </tr>\n",
              "    <tr>\n",
              "      <th>2020-10-06</th>\n",
              "      <td>1135.05</td>\n",
              "      <td>1148.00</td>\n",
              "      <td>1126.20</td>\n",
              "      <td>1144.10</td>\n",
              "      <td>9685997</td>\n",
              "    </tr>\n",
              "    <tr>\n",
              "      <th>2020-10-07</th>\n",
              "      <td>1144.90</td>\n",
              "      <td>1164.85</td>\n",
              "      <td>1137.60</td>\n",
              "      <td>1162.25</td>\n",
              "      <td>10624527</td>\n",
              "    </tr>\n",
              "    <tr>\n",
              "      <th>2020-10-08</th>\n",
              "      <td>1180.00</td>\n",
              "      <td>1203.00</td>\n",
              "      <td>1163.35</td>\n",
              "      <td>1191.80</td>\n",
              "      <td>17530368</td>\n",
              "    </tr>\n",
              "  </tbody>\n",
              "</table>\n",
              "<p>1180 rows × 5 columns</p>\n",
              "</div>"
            ],
            "text/plain": [
              "               Open     High      Low    Close    Volume\n",
              "Date                                                    \n",
              "2016-01-01   540.00   543.91   536.88   543.17   1597538\n",
              "2016-01-04   540.80   540.80   532.86   534.06   2593768\n",
              "2016-01-05   533.91   536.21   529.50   530.02   1580436\n",
              "2016-01-06   527.15   537.18   527.15   532.36   2082768\n",
              "2016-01-07   528.87   531.27   523.68   526.93   3027714\n",
              "...             ...      ...      ...      ...       ...\n",
              "2020-10-01  1090.10  1110.00  1090.10  1106.95  10601566\n",
              "2020-10-05  1112.00  1132.00  1111.00  1114.35   8470109\n",
              "2020-10-06  1135.05  1148.00  1126.20  1144.10   9685997\n",
              "2020-10-07  1144.90  1164.85  1137.60  1162.25  10624527\n",
              "2020-10-08  1180.00  1203.00  1163.35  1191.80  17530368\n",
              "\n",
              "[1180 rows x 5 columns]"
            ]
          },
          "metadata": {
            "tags": []
          },
          "execution_count": 30
        }
      ]
    },
    {
      "cell_type": "code",
      "metadata": {
        "id": "YyYQicMgEA5j"
      },
      "source": [
        "# Dropping currency and volume columns \n",
        "\n",
        "df = df.drop(['Currency'],axis=1)"
      ],
      "execution_count": 5,
      "outputs": []
    },
    {
      "cell_type": "code",
      "metadata": {
        "id": "oHm6u0nEQzuM"
      },
      "source": [
        "df"
      ],
      "execution_count": null,
      "outputs": []
    },
    {
      "cell_type": "code",
      "metadata": {
        "id": "_-zGVy-QPIqY",
        "outputId": "dba430b8-1a7d-4754-8cf8-7112a526f188",
        "colab": {
          "base_uri": "https://localhost:8080/",
          "height": 374
        }
      },
      "source": [
        "# Plotting the data\n",
        "\n",
        "import matplotlib.pyplot as plt\n",
        "\n",
        "plt.figure(1,figsize=(16,6))\n",
        "_ = plt.plot(df.Close, color='red')"
      ],
      "execution_count": 24,
      "outputs": [
        {
          "output_type": "display_data",
          "data": {
            "image/png": "[encoded data removed]",
            "text/plain": [
              "<Figure size 1152x432 with 1 Axes>"
            ]
          },
          "metadata": {
            "tags": [],
            "needs_background": "light"
          }
        }
      ]
    },
    {
      "cell_type": "code",
      "metadata": {
        "id": "-Zs4ggzdjuFH"
      },
      "source": [
        "# Dropping null values\n",
        "\n",
        "df.dropna(inplace=True)\n",
        "\n",
        "# Feature Set of OHLC\n",
        "\n",
        "X = df.values"
      ],
      "execution_count": 7,
      "outputs": []
    },
    {
      "cell_type": "code",
      "metadata": {
        "id": "XfgS5IP6nftz"
      },
      "source": [
        "# Preprocessing the data \n",
        "\n",
        "from sklearn.preprocessing import MinMaxScaler\n",
        "\n",
        "scaler = MinMaxScaler(feature_range=(0,1)).fit(X)\n",
        "X_scaled = scaler.transform(X)"
      ],
      "execution_count": 8,
      "outputs": []
    },
    {
      "cell_type": "code",
      "metadata": {
        "id": "4nzmky_zb9wY"
      },
      "source": [
        ""
      ],
      "execution_count": null,
      "outputs": []
    },
    {
      "cell_type": "code",
      "metadata": {
        "id": "AVAoQhWQDVl9"
      },
      "source": [
        "# Creating the labels\n",
        "# Setting 'Close' as the label to predict \n",
        "\n",
        "Y = [x[3] for x in X_scaled]"
      ],
      "execution_count": 10,
      "outputs": []
    },
    {
      "cell_type": "code",
      "metadata": {
        "id": "5mV5jHWSh0pJ"
      },
      "source": [
        "# Train-Test Split \n",
        "\n",
        "split= int(len(X_scaled)*0.70)\n",
        "x_train = X_scaled[:split]\n",
        "x_test = X_scaled[split: len(X_scaled)]\n",
        "y_train = Y[:split]\n",
        "y_test = Y[split: len(Y)]\n"
      ],
      "execution_count": 66,
      "outputs": []
    },
    {
      "cell_type": "code",
      "metadata": {
        "id": "23_cL_KWdLir"
      },
      "source": [
        "# Creating window data: input for time-series model\n",
        "# Using 2 trading weeks of data as input to predict the next timestep\n",
        "\n",
        "timestep = 10\n",
        "xtrain,ytrain,xtest,ytest = [],[],[],[]\n",
        "\n",
        "for i in range(timestep, len(x_train)):\n",
        "  xtrain.append(x_train[i-timestep:i, :x_train.shape[1]])\n",
        "  ytrain.append(y_train[i])\n",
        "\n",
        "for i in range(timestep, len(x_test)):\n",
        "  xtest.append(x_test[i-timestep:i, :x_test.shape[1]])\n",
        "  ytest.append(y_test[i])"
      ],
      "execution_count": 67,
      "outputs": []
    },
    {
      "cell_type": "code",
      "metadata": {
        "id": "heSSFtO30X4t"
      },
      "source": [
        ""
      ],
      "execution_count": null,
      "outputs": []
    },
    {
      "cell_type": "code",
      "metadata": {
        "id": "baZat-6NlFFL"
      },
      "source": [
        "# Converting window data into arrays to pass as input to the model\n",
        "\n",
        "import numpy as np \n",
        "xtrain,ytrain = (np.array(xtrain),np.array(ytrain))\n",
        "xtrain = np.reshape(xtrain, (xtrain.shape[0],xtrain.shape[1],xtrain.shape[2]))\n",
        "\n",
        "xtest,ytest = (np.array(xtest),np.array(ytest))\n",
        "xtest = np.reshape(xtest, (xtest.shape[0],xtest.shape[1],xtest.shape[2]))"
      ],
      "execution_count": 69,
      "outputs": []
    },
    {
      "cell_type": "code",
      "metadata": {
        "id": "FmwvxWPBp74O"
      },
      "source": [
        ""
      ],
      "execution_count": null,
      "outputs": []
    },
    {
      "cell_type": "code",
      "metadata": {
        "id": "AevKazcy0iOC",
        "outputId": "6e7a02b0-cab2-4a21-b223-de5f73267fb8",
        "colab": {
          "base_uri": "https://localhost:8080/",
          "height": 34
        }
      },
      "source": [
        "# Batch size calculator\n",
        "\n",
        "import math\n",
        "math.gcd(xtrain.shape[0],xtest.shape[0])"
      ],
      "execution_count": 57,
      "outputs": [
        {
          "output_type": "execute_result",
          "data": {
            "text/plain": [
              "8"
            ]
          },
          "metadata": {
            "tags": []
          },
          "execution_count": 57
        }
      ]
    },
    {
      "cell_type": "code",
      "metadata": {
        "id": "UPQPqgwpf77s"
      },
      "source": [
        "import time\n",
        "import warnings\n",
        "from keras.layers.core import Dense, Activation, Dropout\n",
        "from keras.layers.recurrent import LSTM\n",
        "from keras.models import Sequential\n",
        "import matplotlib.pyplot as plt"
      ],
      "execution_count": 58,
      "outputs": []
    },
    {
      "cell_type": "code",
      "metadata": {
        "id": "dFl-r5Cgnqg_"
      },
      "source": [
        ""
      ],
      "execution_count": null,
      "outputs": []
    },
    {
      "cell_type": "code",
      "metadata": {
        "id": "-9fiu0OkqhpZ"
      },
      "source": [
        "# LSTM Model with 32-32-16 architecture\n",
        "\n",
        "model = Sequential()\n",
        "\n",
        "model.add(LSTM(units=32,batch_size=8,input_shape = (10,5),stateful=True,return_sequences=True))\n",
        "model.add(Dropout(0.5))\n",
        "model.add(LSTM(units=32,stateful=True,return_sequences=True))\n",
        "model.add(Dropout(0.5))\n",
        "model.add(LSTM(units=16,stateful=True,return_sequences=False))\n",
        "model.add(Dropout(0.2))\n",
        "model.add(Dense(units=1,activation='linear'))\n",
        "model.compile(loss='mean_squared_error',optimizer='adam',metrics=['mean_absolute_error'])\n",
        "\n",
        "model.summary()"
      ],
      "execution_count": null,
      "outputs": []
    },
    {
      "cell_type": "code",
      "metadata": {
        "id": "BiWyUrPfu9Ln"
      },
      "source": [
        "# Training the model\n",
        "# Loss metric: Mean Squared Error\n",
        "\n",
        "model.fit(xtrain,ytrain,epochs=100,validation_data=(xtest,ytest), batch_size=8,verbose=1)"
      ],
      "execution_count": null,
      "outputs": []
    },
    {
      "cell_type": "code",
      "metadata": {
        "id": "H_keZYcbvwtN"
      },
      "source": [
        "# Testing the model \n",
        "\n",
        "testpredict = model.predict(xtest, batch_size=8)"
      ],
      "execution_count": 64,
      "outputs": []
    },
    {
      "cell_type": "code",
      "metadata": {
        "id": "g9FRC_BiwJr8",
        "outputId": "61ed6c6e-b039-4946-cae2-678c865840ef",
        "colab": {
          "base_uri": "https://localhost:8080/",
          "height": 421
        }
      },
      "source": [
        "# Plotting the results\n",
        "\n",
        "plt.figure(2,figsize=(16,6))\n",
        "_ = plt.plot(testpredict,label='Predicted')\n",
        "t = plt.plot(ytest,label='Actual',color='red')\n",
        "plt.legend()\n",
        "plt.title('Performance Graph')\n",
        "plt.xlabel('Test Cases')\n",
        "plt.ylabel('Normalised Close')"
      ],
      "execution_count": 65,
      "outputs": [
        {
          "output_type": "execute_result",
          "data": {
            "text/plain": [
              "Text(0, 0.5, 'Normalised Close')"
            ]
          },
          "metadata": {
            "tags": []
          },
          "execution_count": 65
        },
        {
          "output_type": "display_data",
          "data": {
            "image/png": "[encoded data removed]",
            "text/plain": [
              "<Figure size 1152x432 with 1 Axes>"
            ]
          },
          "metadata": {
            "tags": [],
            "needs_background": "light"
          }
        }
      ]
    }
  ]
}